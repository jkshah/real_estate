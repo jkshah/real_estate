{
 "cells": [
  {
   "cell_type": "code",
   "execution_count": 2,
   "metadata": {},
   "outputs": [],
   "source": [
    "import numpy as np\n",
    "import scipy as sp\n",
    "import pandas as pd\n",
    "import datetime\n",
    "\n",
    "from compute import *"
   ]
  },
  {
   "cell_type": "code",
   "execution_count": 4,
   "metadata": {},
   "outputs": [
    {
     "name": "stdout",
     "output_type": "stream",
     "text": [
      "\n",
      "    Project   : Tower St 4plex and 2 adus\n",
      "    Purchase  : $1,300,000\n",
      "    rent roll : $81,600\n",
      "    NOI       : $57,120  \n",
      "    Expen Rate: 30%\n",
      "    Cap Rate  : 4.39%        \n",
      "    DebService:\n",
      "       amount - $1,040,000\n",
      "       rate   - 3.5%\n",
      "       payment- 56,041$\n",
      "    DSCR      : 1.02%  \n",
      "    \n",
      "    \n",
      "    Basis     : $1,800,000\n",
      "    Cap Rate  : 5.32%        \n",
      "    rent roll : $136,800\n",
      "    NOI       : $95,760\n",
      "    Expen Rate: 30%    \n",
      "    Price     : $2,128,000 @ cap(4.50%)\n",
      "    \n"
     ]
    }
   ],
   "source": [
    "#constants\n",
    "ProjectName = \"Tower St 4plex and 2 adus\"\n",
    "# assumptions\n",
    "NumberUnits=4\n",
    "price     = 1300000\n",
    "rent      = 2000*2+1400*2\n",
    "ltv       = 80\n",
    "loanRatePer = 3.5\n",
    "expenseRate = 30\n",
    "rentPF      = 2200*2+1500*2+2000*2\n",
    "# Proforma\n",
    "expenseRatePF=30\n",
    "capPF        =4.5\n",
    "repairCost   = 500000\n",
    "\n",
    "computeProjectSimple(ProjectName, NumberUnits, price, rent,expenseRate, ltv, loanRatePer, rentPF,expenseRatePF,capPF,repairCost)\n",
    "\n"
   ]
  },
  {
   "cell_type": "code",
   "execution_count": null,
   "metadata": {},
   "outputs": [],
   "source": []
  }
 ],
 "metadata": {
  "kernelspec": {
   "display_name": "Python 3",
   "language": "python",
   "name": "python3"
  },
  "language_info": {
   "codemirror_mode": {
    "name": "ipython",
    "version": 3
   },
   "file_extension": ".py",
   "mimetype": "text/x-python",
   "name": "python",
   "nbconvert_exporter": "python",
   "pygments_lexer": "ipython3",
   "version": "3.7.1"
  }
 },
 "nbformat": 4,
 "nbformat_minor": 2
}
