{
 "cells": [
  {
   "cell_type": "code",
   "execution_count": 1,
   "metadata": {},
   "outputs": [],
   "source": [
    "import numpy as np\n",
    "import scipy as sp\n",
    "import pandas as pd\n",
    "import datetime\n",
    "\n",
    "from compute import *"
   ]
  },
  {
   "cell_type": "code",
   "execution_count": 7,
   "metadata": {},
   "outputs": [
    {
     "name": "stdout",
     "output_type": "stream",
     "text": [
      "\n",
      "        Project   : Tower St 4plex and 2 adus\n",
      "        Purchase  : $1,150,000\n",
      "        rent roll : $86,400\n",
      "        NOI       : $60,480  \n",
      "        Expen Rate: 30%\n",
      "        Cap Rate  : 5.26%        \n",
      "        DebService:\n",
      "           amount - $40,250\n",
      "           rate   - 7200%\n",
      "           payment- inf$\n",
      "        DSCR      : 0.00%  \n",
      "        \n",
      "    \n",
      "        Descript  : \n",
      "        Basis     : $1,150,000\n",
      "        Cap Rate  : 0.03%        \n",
      "        rent roll : $360\n",
      "        NOI       : $344\n",
      "        Expen Rate: 4.5%    \n",
      "        Price     : $1 @ cap(55000.00%)\n",
      "        \n"
     ]
    }
   ],
   "source": [
    "#constants\n",
    "ProjectName = \"Tower St 4plex and 2 adus\"\n",
    "# assumptions\n",
    "NumberUnits=4\n",
    "price     = 1000000\n",
    "rent      = 1400*4\n",
    "ltv       = 75\n",
    "loanRatePer = 3.5\n",
    "expenseRate = 30\n",
    "rentPF      = 1800*4\n",
    "# Proforma\n",
    "expenseRatePF=30\n",
    "capPF        =4.5\n",
    "repairCost   = 10000*4+15000\n",
    "\n",
    "computeProjectSimple(ProjectName, NumberUnits, price, rent,expenseRate, ltv, loanRatePer, rentPF,expenseRatePF,capPF,repairCost)\n",
    "\n"
   ]
  },
  {
   "cell_type": "code",
   "execution_count": null,
   "metadata": {},
   "outputs": [],
   "source": []
  }
 ],
 "metadata": {
  "kernelspec": {
   "display_name": "Python 3",
   "language": "python",
   "name": "python3"
  },
  "language_info": {
   "codemirror_mode": {
    "name": "ipython",
    "version": 3
   },
   "file_extension": ".py",
   "mimetype": "text/x-python",
   "name": "python",
   "nbconvert_exporter": "python",
   "pygments_lexer": "ipython3",
   "version": "3.7.1"
  }
 },
 "nbformat": 4,
 "nbformat_minor": 2
}
